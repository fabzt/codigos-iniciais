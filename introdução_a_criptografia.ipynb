{
  "nbformat": 4,
  "nbformat_minor": 0,
  "metadata": {
    "colab": {
      "provenance": [],
      "authorship_tag": "ABX9TyN/fZPsGQYmddgi8YPJAGTe",
      "include_colab_link": true
    },
    "kernelspec": {
      "name": "python3",
      "display_name": "Python 3"
    },
    "language_info": {
      "name": "python"
    }
  },
  "cells": [
    {
      "cell_type": "markdown",
      "metadata": {
        "id": "view-in-github",
        "colab_type": "text"
      },
      "source": [
        "<a href=\"https://colab.research.google.com/github/fabzt/codigos-iniciais/blob/main/introdu%C3%A7%C3%A3o_a_criptografia.ipynb\" target=\"_parent\"><img src=\"https://colab.research.google.com/assets/colab-badge.svg\" alt=\"Open In Colab\"/></a>"
      ]
    },
    {
      "cell_type": "markdown",
      "source": [
        "# EXEMPLO 1"
      ],
      "metadata": {
        "id": "CR_bSlidTJKI"
      }
    },
    {
      "cell_type": "code",
      "execution_count": 2,
      "metadata": {
        "colab": {
          "base_uri": "https://localhost:8080/"
        },
        "id": "6FnuZBEJw-Kz",
        "outputId": "0b258dfd-025d-4b66-86be-8f92b1c83c3f"
      },
      "outputs": [
        {
          "output_type": "stream",
          "name": "stdout",
          "text": [
            "77932913\n"
          ]
        }
      ],
      "source": [
        "import random\n",
        "\n",
        "teste = random.random()\n",
        "strTeste = str(teste).replace(\"0.\", \"\")\n",
        "print(strTeste[:8])"
      ]
    },
    {
      "cell_type": "markdown",
      "source": [
        "# EXEMPLO 2"
      ],
      "metadata": {
        "id": "fSK5FKXqTL1o"
      }
    },
    {
      "cell_type": "code",
      "source": [
        "import random\n",
        "\n",
        "stringAleatoria = \"\"\n",
        "for i in range(8):\n",
        "    numAleatorio = random.randint(0, 9)\n",
        "    stringAleatoria += str(numAleatorio)\n",
        "\n",
        "print(stringAleatoria)"
      ],
      "metadata": {
        "colab": {
          "base_uri": "https://localhost:8080/"
        },
        "id": "T3JvBG9EzSoT",
        "outputId": "e55ad930-ab82-4c55-99f3-9761056f3924"
      },
      "execution_count": 3,
      "outputs": [
        {
          "output_type": "stream",
          "name": "stdout",
          "text": [
            "53225590\n"
          ]
        }
      ]
    },
    {
      "cell_type": "markdown",
      "source": [
        "# EXEMPLO 3"
      ],
      "metadata": {
        "id": "Oq5FCRXqTOho"
      }
    },
    {
      "cell_type": "code",
      "source": [
        "nome = \"Rafa\"\n",
        "alfabeto = 'abcdefghijklmnopqrstuvwxyz';\n",
        "chave = 6\n",
        "\n",
        "nomeCifrado = \"\"\n",
        "for letra in nome.lower():\n",
        "    posicaoLetra = alfabeto.find(letra)\n",
        "    posicaoLetraCifrada = posicaoLetra + chave\n",
        "    nomeCifrado += alfabeto[posicaoLetraCifrada]\n",
        "\n",
        "print(nomeCifrado)"
      ],
      "metadata": {
        "colab": {
          "base_uri": "https://localhost:8080/"
        },
        "id": "bXlFjxD0zaPS",
        "outputId": "d220482c-10e5-4c07-e8f0-28a590438f8c"
      },
      "execution_count": 4,
      "outputs": [
        {
          "output_type": "stream",
          "name": "stdout",
          "text": [
            "xglg\n"
          ]
        }
      ]
    },
    {
      "cell_type": "markdown",
      "source": [
        "# EXEMPLO 4 - CÓDIGO COMPLETO"
      ],
      "metadata": {
        "id": "vUVkgjfOTRZA"
      }
    },
    {
      "cell_type": "code",
      "source": [
        "import random\n",
        "\n",
        "def gerar_codigo():\n",
        "  #Gera um código aleatório de 8 dígitos com letras, números e caracteres especiais.\n",
        "\n",
        "  alfabeto = 'abcdefghijklmnopqrstuvwxyz'\n",
        "  numeros = '0123456789'\n",
        "  especial = '!@#$%¨&*()/'\n",
        "\n",
        "  caracteres = alfabeto + numeros + especial\n",
        "  codigo_gerado = ''\n",
        "\n",
        "  for i in range(8):\n",
        "    codigo_gerado += random.choice(caracteres)\n",
        "\n",
        "  return codigo_gerado\n",
        "  codigo = gerar_codigo()\n",
        "  print(codigo)\n",
        "gerar_codigo()\n"
      ],
      "metadata": {
        "colab": {
          "base_uri": "https://localhost:8080/",
          "height": 35
        },
        "id": "iub7Fyr5BnEU",
        "outputId": "0eb4332f-b09a-4a84-fa90-c2ce0419c63c"
      },
      "execution_count": 13,
      "outputs": [
        {
          "output_type": "execute_result",
          "data": {
            "text/plain": [
              "'90ml%6m0'"
            ],
            "application/vnd.google.colaboratory.intrinsic+json": {
              "type": "string"
            }
          },
          "metadata": {},
          "execution_count": 13
        }
      ]
    }
  ]
}