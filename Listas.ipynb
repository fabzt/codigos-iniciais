{
  "nbformat": 4,
  "nbformat_minor": 0,
  "metadata": {
    "colab": {
      "provenance": [],
      "authorship_tag": "ABX9TyPPrQeJ2YbPl74wcWJiyOKR",
      "include_colab_link": true
    },
    "kernelspec": {
      "name": "python3",
      "display_name": "Python 3"
    },
    "language_info": {
      "name": "python"
    }
  },
  "cells": [
    {
      "cell_type": "markdown",
      "metadata": {
        "id": "view-in-github",
        "colab_type": "text"
      },
      "source": [
        "<a href=\"https://colab.research.google.com/github/fabzt/codigos-iniciais/blob/main/Listas.ipynb\" target=\"_parent\"><img src=\"https://colab.research.google.com/assets/colab-badge.svg\" alt=\"Open In Colab\"/></a>"
      ]
    },
    {
      "cell_type": "markdown",
      "source": [
        "# EXEMPLO 1 - Listas e Vetores\n",
        "\n",
        "\n",
        "\n"
      ],
      "metadata": {
        "id": "bswE0SWNKQdg"
      }
    },
    {
      "cell_type": "code",
      "execution_count": 4,
      "metadata": {
        "colab": {
          "base_uri": "https://localhost:8080/"
        },
        "id": "VFUWog1rJIQE",
        "outputId": "86b033f9-a0a1-4097-9515-f96b8fab0bc3"
      },
      "outputs": [
        {
          "output_type": "stream",
          "name": "stdout",
          "text": [
            "88\n"
          ]
        }
      ],
      "source": [
        "notas = [85, 92, 78, 90, 88]\n",
        "print(notas [-1])\n"
      ]
    },
    {
      "cell_type": "markdown",
      "source": [
        "#EXEMPLO 2 - Fatiamento de vetores"
      ],
      "metadata": {
        "id": "QykvLcNeKcFO"
      }
    },
    {
      "cell_type": "code",
      "source": [
        "notas = [85, 92, 78, 90, 88]\n",
        "subvetor = notas[1:3] #imprimindo do segundo ao terceiro termo\n",
        "print(subvetor)"
      ],
      "metadata": {
        "colab": {
          "base_uri": "https://localhost:8080/"
        },
        "id": "g97PvVdQKbSn",
        "outputId": "b5125447-52f5-4624-fb23-4442fd07e52b"
      },
      "execution_count": 5,
      "outputs": [
        {
          "output_type": "stream",
          "name": "stdout",
          "text": [
            "[92, 78]\n"
          ]
        }
      ]
    },
    {
      "cell_type": "markdown",
      "source": [
        "# EXEMPLO 3 - Inserção de elementos\n"
      ],
      "metadata": {
        "id": "Gl8RGEJjLKCG"
      }
    },
    {
      "cell_type": "code",
      "source": [
        "notas = [85, 92, 78, 90, 88]\n",
        "notas.insert(2,15) #inserindo o valor 15 na posição 2\n",
        "print(notas)"
      ],
      "metadata": {
        "colab": {
          "base_uri": "https://localhost:8080/"
        },
        "id": "zP3F56GdLJL_",
        "outputId": "05dd51f7-e653-4c57-e287-fd81a0b0f718"
      },
      "execution_count": 6,
      "outputs": [
        {
          "output_type": "stream",
          "name": "stdout",
          "text": [
            "[85, 92, 15, 78, 90, 88]\n"
          ]
        }
      ]
    },
    {
      "cell_type": "markdown",
      "source": [
        "# EXEMPLO 4 - Inserir elementos no final da lista"
      ],
      "metadata": {
        "id": "ka8WQ8NHL4CH"
      }
    },
    {
      "cell_type": "code",
      "source": [
        "notas = [85, 92, 78, 90, 88]\n",
        "notas. append(101) #inserindo o valor 10 no final da lista\n",
        "print(notas)"
      ],
      "metadata": {
        "colab": {
          "base_uri": "https://localhost:8080/"
        },
        "id": "rhLRXzyFL3fA",
        "outputId": "3a175bee-fd6d-4edc-959c-97b45cd568af"
      },
      "execution_count": 8,
      "outputs": [
        {
          "output_type": "stream",
          "name": "stdout",
          "text": [
            "[85, 92, 78, 90, 88, 101]\n"
          ]
        }
      ]
    },
    {
      "cell_type": "markdown",
      "source": [
        "# EXEMPLO 5 - Remoção de elementos"
      ],
      "metadata": {
        "id": "L5Z_H74uMdG2"
      }
    },
    {
      "cell_type": "code",
      "source": [
        "notas = [85, 92, 78, 90, 88]\n",
        "notas.remove(92) #removendo o valor 92\n",
        "print(notas)"
      ],
      "metadata": {
        "colab": {
          "base_uri": "https://localhost:8080/"
        },
        "id": "K6OLh-j4McHw",
        "outputId": "624caa46-6c85-4560-e067-f71f107ddb74"
      },
      "execution_count": 9,
      "outputs": [
        {
          "output_type": "stream",
          "name": "stdout",
          "text": [
            "[85, 78, 90, 88]\n"
          ]
        }
      ]
    },
    {
      "cell_type": "markdown",
      "source": [
        "# EXEMPLO 6 - Remoção baseada na posição do valor na lista"
      ],
      "metadata": {
        "id": "50maftVkM3Wn"
      }
    },
    {
      "cell_type": "code",
      "source": [
        "notas = [85, 92, 78, 90, 88]\n",
        "del notas[2] #removendo o valor da posição 2\n",
        "print(notas)"
      ],
      "metadata": {
        "colab": {
          "base_uri": "https://localhost:8080/"
        },
        "id": "mdFdpP3_M2Zw",
        "outputId": "6cdd64f6-996c-4066-e8d9-0819b4f40bba"
      },
      "execution_count": 11,
      "outputs": [
        {
          "output_type": "stream",
          "name": "stdout",
          "text": [
            "[85, 92, 90, 88]\n"
          ]
        }
      ]
    },
    {
      "cell_type": "markdown",
      "source": [
        "# EXEMPLO 7 - Matriz"
      ],
      "metadata": {
        "id": "nyrDnVRFNTlP"
      }
    },
    {
      "cell_type": "code",
      "source": [
        "matriz = [[1,2,3], [4,5,6], [7,8,9]]\n",
        "print(matriz[1][2]) #acessando o valor da coluna 1 e linha 2, ou seja, em termos [0], [1], [2]. Sendo a mesma coisa com a linha [0, 1, 2]"
      ],
      "metadata": {
        "colab": {
          "base_uri": "https://localhost:8080/"
        },
        "id": "5dk0G9oPNSrg",
        "outputId": "7588a268-3f7c-4fd2-a216-c24d34883ce8"
      },
      "execution_count": 16,
      "outputs": [
        {
          "output_type": "stream",
          "name": "stdout",
          "text": [
            "6\n"
          ]
        }
      ]
    }
  ]
}