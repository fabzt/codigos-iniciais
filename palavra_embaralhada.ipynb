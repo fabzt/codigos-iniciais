{
  "nbformat": 4,
  "nbformat_minor": 0,
  "metadata": {
    "colab": {
      "provenance": [],
      "authorship_tag": "ABX9TyM8313+qdWyqsuWeOVyNrdg",
      "include_colab_link": true
    },
    "kernelspec": {
      "name": "python3",
      "display_name": "Python 3"
    },
    "language_info": {
      "name": "python"
    }
  },
  "cells": [
    {
      "cell_type": "markdown",
      "metadata": {
        "id": "view-in-github",
        "colab_type": "text"
      },
      "source": [
        "<a href=\"https://colab.research.google.com/github/fabzt/codigos-iniciais/blob/main/palavra_embaralhada.ipynb\" target=\"_parent\"><img src=\"https://colab.research.google.com/assets/colab-badge.svg\" alt=\"Open In Colab\"/></a>"
      ]
    },
    {
      "cell_type": "markdown",
      "source": [
        "# PALAVRA EMBARALHADA - RANDOM"
      ],
      "metadata": {
        "id": "UY88Ol5czVvk"
      }
    },
    {
      "cell_type": "code",
      "execution_count": null,
      "metadata": {
        "colab": {
          "base_uri": "https://localhost:8080/",
          "height": 52
        },
        "id": "8wpcfqropPze",
        "outputId": "13fb92cf-a045-4429-8892-b9ebae505725"
      },
      "outputs": [
        {
          "name": "stdout",
          "output_type": "stream",
          "text": [
            "Escreva a sua palavra ou frase: sao Paulo\n"
          ]
        },
        {
          "output_type": "execute_result",
          "data": {
            "text/plain": [
              "'psao uoal'"
            ],
            "application/vnd.google.colaboratory.intrinsic+json": {
              "type": "string"
            }
          },
          "metadata": {},
          "execution_count": 2
        }
      ],
      "source": [
        "def palavra_embaralhada():\n",
        "  palavra_ordem = input(\"Escreva a sua palavra ou frase: \")\n",
        "  palavra_aleatória = []\n",
        "  for letra in palavra_ordem:\n",
        "    palavra_aleatória.append(letra)\n",
        "  import random\n",
        "  random.shuffle(palavra_aleatória)\n",
        "  palavra_embaralhada = \"\".join(palavra_aleatória).lower()\n",
        "\n",
        "  return (palavra_embaralhada)\n",
        "palavra_embaralhada()"
      ]
    }
  ]
}