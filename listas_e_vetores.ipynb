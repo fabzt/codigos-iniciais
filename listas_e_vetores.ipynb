{
  "nbformat": 4,
  "nbformat_minor": 0,
  "metadata": {
    "colab": {
      "provenance": [],
      "authorship_tag": "ABX9TyObAAEKSqYozE2rdg1DTNBE",
      "include_colab_link": true
    },
    "kernelspec": {
      "name": "python3",
      "display_name": "Python 3"
    },
    "language_info": {
      "name": "python"
    }
  },
  "cells": [
    {
      "cell_type": "markdown",
      "metadata": {
        "id": "view-in-github",
        "colab_type": "text"
      },
      "source": [
        "<a href=\"https://colab.research.google.com/github/fabzt/codigos-iniciais/blob/main/listas_e_vetores.ipynb\" target=\"_parent\"><img src=\"https://colab.research.google.com/assets/colab-badge.svg\" alt=\"Open In Colab\"/></a>"
      ]
    },
    {
      "cell_type": "markdown",
      "source": [
        "# calcular as vendas no ano\n"
      ],
      "metadata": {
        "id": "PtFXo6xyPBll"
      }
    },
    {
      "cell_type": "code",
      "execution_count": 1,
      "metadata": {
        "colab": {
          "base_uri": "https://localhost:8080/"
        },
        "id": "2-bFwF53OcE9",
        "outputId": "0f58054c-c862-4444-8a6a-f32d373467d4"
      },
      "outputs": [
        {
          "output_type": "stream",
          "name": "stdout",
          "text": [
            "Total de vendas no ano: 1680\n"
          ]
        }
      ],
      "source": [
        "vendas_mensais = [120, 130, 140, 150, 160, 170, 160, 150, 140, 130, 120, 110]\n",
        "\n",
        "# 1. Calcular o total de vendas no ano:\n",
        "total_vendas = sum(vendas_mensais)\n",
        "print(f\"Total de vendas no ano: {total_vendas}\")\n",
        "\n",
        "# Usamos a função sum() para somar todos os valores na lista vendas_mensais e armazenamos o resultado na variável total_vendas.\n",
        "# Imprimimos o valor de total_vendas usando print()."
      ]
    },
    {
      "cell_type": "markdown",
      "source": [
        "# calcular a média mensal de vendas\n"
      ],
      "metadata": {
        "id": "lnfFs4OmPKW8"
      }
    },
    {
      "cell_type": "code",
      "source": [
        "vendas_mensais = [120, 130, 140, 150, 160, 170, 160, 150, 140, 130, 120, 110]\n",
        "\n",
        "# 2. Calcular a média mensal de vendas:\n",
        "media_vendas = total_vendas / len(vendas_mensais)\n",
        "print(f\"Média mensal de vendas: {media_vendas}\")\n",
        "\n",
        "# Dividimos total_vendas pelo número de meses (que é o tamanho da lista vendas_mensais) usando len().\n",
        "# Armazenamos o resultado na variável media_vendas.\n",
        "# Imprimimos o valor de media_vendas."
      ],
      "metadata": {
        "colab": {
          "base_uri": "https://localhost:8080/"
        },
        "id": "mhixYC01Oz8P",
        "outputId": "84337628-29ea-4792-b13d-1e80a154db0e"
      },
      "execution_count": 2,
      "outputs": [
        {
          "output_type": "stream",
          "name": "stdout",
          "text": [
            "Média mensal de vendas: 140.0\n"
          ]
        }
      ]
    },
    {
      "cell_type": "markdown",
      "source": [
        "# determinar o mês com o máximo de venda\n"
      ],
      "metadata": {
        "id": "hEj7yV0fPYal"
      }
    },
    {
      "cell_type": "code",
      "source": [
        "vendas_mensais = [120, 130, 140, 150, 160, 170, 160, 150, 140, 130, 120, 110]\n",
        "\n",
        "# 3. Determinar o mês com a máxima venda:\n",
        "mes_maxima_venda = vendas_mensais.index(max(vendas_mensais)) + 1\n",
        "print(f\"Mês com a máxima venda: {mes_maxima_venda}\")\n",
        "\n",
        "# Usamos max() para encontrar o valor máximo na lista vendas_mensais.\n",
        "# Usamos index() para encontrar a posição (índice) desse valor máximo na lista.\n",
        "# Como os índices começam em 0, adicionamos 1 para obter o número do mês correspondente.\n",
        "# Armazenamos o resultado na variável mes_maxima_venda.\n",
        "# Imprimimos o valor de mes_maxima_venda."
      ],
      "metadata": {
        "colab": {
          "base_uri": "https://localhost:8080/"
        },
        "id": "KKLIkLZoO6aN",
        "outputId": "21c6e6be-4f0f-4cbe-8cf5-3e8f3de8b362"
      },
      "execution_count": 3,
      "outputs": [
        {
          "output_type": "stream",
          "name": "stdout",
          "text": [
            "Mês com a máxima venda: 6\n"
          ]
        }
      ]
    },
    {
      "cell_type": "code",
      "source": [
        "temperatura = [\n",
        "    [22, 25, 28, 32],\n",
        "    [20, 23, 26, 30],\n",
        "    [18, 22, 25, 29]\n",
        "]\n",
        "\n",
        "# Transpose the matrix without NumPy\n",
        "temperatura_transposta = [[row[i] for row in temperatura] for i in range(len(temperatura[0]))]\n",
        "\n",
        "\n",
        "# Display the transposed matrix\n",
        "print(temperatura_transposta)"
      ],
      "metadata": {
        "colab": {
          "base_uri": "https://localhost:8080/"
        },
        "id": "oejtLmT9R8j1",
        "outputId": "4368aff0-5d31-48f7-e1c5-df9210d16ccc"
      },
      "execution_count": 4,
      "outputs": [
        {
          "output_type": "stream",
          "name": "stdout",
          "text": [
            "[[22, 20, 18], [25, 23, 22], [28, 26, 25], [32, 30, 29]]\n"
          ]
        }
      ]
    },
    {
      "cell_type": "markdown",
      "source": [
        "# alteração de dados tabulares"
      ],
      "metadata": {
        "id": "PzRt-J5jTsGy"
      }
    },
    {
      "cell_type": "code",
      "source": [
        "import numpy as np\n",
        "#Importar numpy: Começamos importando a biblioteca numpy, que é essencial para operações numéricas em Python, incluindo manipulações de matrizes.\n",
        "# Nós a importamos como np por conveniência.\n",
        "\n",
        "# Matriz de temperatura\n",
        "temperatura = [\n",
        "    [22, 25, 28, 32],\n",
        "    [20, 23, 26, 30],\n",
        "    [18, 22, 25, 29]\n",
        "]\n",
        "# Definir a matriz: Criamos a variável temperatura e atribuímos a ela os dados de temperatura fornecido\n",
        "# Esta é uma lista de listas, representando a matriz\n",
        "\n",
        "# Transpor a matriz usando NumPy\n",
        "temperatura_transposta = np.transpose(temperatura)\n",
        "# transpor usando np.transpose: O núcleo da solução é a função np.transpose() do numpy. Ela transpõe a matriz de forma eficiente, trocando linhas e colunas.\n",
        "# O resultado é armazenado na variável temperatura_transposta.\n",
        "\n",
        "# Exibir a matriz transposta\n",
        "print(temperatura_transposta)\n",
        "# Imprimir a matriz transposta: Finalmente, usamos print() para exibir a matriz transposta ao usuário. Para ver a saída, execute o código."
      ],
      "metadata": {
        "colab": {
          "base_uri": "https://localhost:8080/"
        },
        "id": "qZjIJYyHSJTs",
        "outputId": "fca3924b-178b-4888-e16c-e17a23c1eb09"
      },
      "execution_count": 6,
      "outputs": [
        {
          "output_type": "stream",
          "name": "stdout",
          "text": [
            "[[22 20 18]\n",
            " [25 23 22]\n",
            " [28 26 25]\n",
            " [32 30 29]]\n"
          ]
        }
      ]
    }
  ]
}