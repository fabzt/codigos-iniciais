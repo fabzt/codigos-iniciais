{
  "nbformat": 4,
  "nbformat_minor": 0,
  "metadata": {
    "colab": {
      "provenance": [],
      "authorship_tag": "ABX9TyPLitFtkrJYlPUZFxLgBvnk",
      "include_colab_link": true
    },
    "kernelspec": {
      "name": "python3",
      "display_name": "Python 3"
    },
    "language_info": {
      "name": "python"
    }
  },
  "cells": [
    {
      "cell_type": "markdown",
      "metadata": {
        "id": "view-in-github",
        "colab_type": "text"
      },
      "source": [
        "<a href=\"https://colab.research.google.com/github/fabzt/codigos-iniciais/blob/main/exemplos_de_listas.ipynb\" target=\"_parent\"><img src=\"https://colab.research.google.com/assets/colab-badge.svg\" alt=\"Open In Colab\"/></a>"
      ]
    },
    {
      "cell_type": "markdown",
      "source": [],
      "metadata": {
        "id": "fEOEnE19DWXS"
      }
    },
    {
      "cell_type": "markdown",
      "source": [
        "# EXEMPLO 1 - DICT"
      ],
      "metadata": {
        "id": "ceZYdBIfAvSS"
      }
    },
    {
      "cell_type": "code",
      "source": [
        "carro = dict(marca=\"Chevrolet\", modelo=\"Tracker\", ano=2020)\n",
        "print(carro)"
      ],
      "metadata": {
        "colab": {
          "base_uri": "https://localhost:8080/"
        },
        "id": "kPjhtsGXAni6",
        "outputId": "3753ebbd-80aa-4934-f010-32feaf943240"
      },
      "execution_count": 10,
      "outputs": [
        {
          "output_type": "stream",
          "name": "stdout",
          "text": [
            "{'marca': 'Chevrolet', 'modelo': 'Tracker', 'ano': 2020}\n"
          ]
        }
      ]
    },
    {
      "cell_type": "markdown",
      "source": [
        "# EXEMPLO 2"
      ],
      "metadata": {
        "id": "9dTa4OfECIC5"
      }
    },
    {
      "cell_type": "code",
      "source": [
        "capitais = {\"Brasil\": \"Brasilia\", \"Alemanha\": \"Berlim\", \"Japão\": \"Tóquio\"}\n",
        "capital_brasil = capitais[\"Brasil\"]\n",
        "print(capital_brasil)"
      ],
      "metadata": {
        "colab": {
          "base_uri": "https://localhost:8080/"
        },
        "id": "kGXczXmsBrgr",
        "outputId": "988ed251-072d-4edf-8ea4-2df171c00404"
      },
      "execution_count": 11,
      "outputs": [
        {
          "output_type": "stream",
          "name": "stdout",
          "text": [
            "Brasilia\n"
          ]
        }
      ]
    },
    {
      "cell_type": "markdown",
      "source": [
        "#EXEMPLO 3\n"
      ],
      "metadata": {
        "id": "wjpQ04HYDARR"
      }
    },
    {
      "cell_type": "code",
      "source": [
        "capitais = {\"Brasil\": \"Brasília\", \"Alemanha\": \"Berlim\", \"Japão\": \"Tóquio\"}\n",
        "pais = \"Brasil\"\n",
        "\n",
        "if pais in capitais:\n",
        "  capital = capitais [pais]\n",
        "  print(f\"A capital de {pais} é {capital}.\")\n",
        "else:\n",
        "  print(f\"A capital de {pais} não foi encontrada no dicionário!\")"
      ],
      "metadata": {
        "colab": {
          "base_uri": "https://localhost:8080/"
        },
        "id": "Sb4xTVR0BDPL",
        "outputId": "7b9ca8ee-a99f-44d4-cab6-b9792cf71628"
      },
      "execution_count": 18,
      "outputs": [
        {
          "output_type": "stream",
          "name": "stdout",
          "text": [
            "A capital de Brasil é Brasília.\n"
          ]
        }
      ]
    },
    {
      "cell_type": "markdown",
      "source": [
        "# EXEMPLO 4 - DEL"
      ],
      "metadata": {
        "id": "KpApoGw5DNMp"
      }
    },
    {
      "cell_type": "code",
      "source": [
        "capitais = {\"Brasil\": \"Brasilia\", \"Alemanha\": \"Berlim\", \"Japão\": \"Tóquio\"}\n",
        "del capitais [\"Brasil\"]\n",
        "print(capitais)"
      ],
      "metadata": {
        "colab": {
          "base_uri": "https://localhost:8080/"
        },
        "id": "K3IfodqOBX9S",
        "outputId": "51bb1cb1-5056-4460-b85f-68fcedebee73"
      },
      "execution_count": 19,
      "outputs": [
        {
          "output_type": "stream",
          "name": "stdout",
          "text": [
            "{'Alemanha': 'Berlim', 'Japão': 'Tóquio'}\n"
          ]
        }
      ]
    },
    {
      "cell_type": "markdown",
      "source": [
        "#EXEMPLO 5 - UPDATE\n"
      ],
      "metadata": {
        "id": "WGkYvgMaEAl5"
      }
    },
    {
      "cell_type": "code",
      "source": [
        "meu_dicionario = {\"nome\": \"Alice\", \"idade\":25}\n",
        "meu_dicionario.update({\"idade\": 26, \"cidade\": \"São Paulo\"})\n",
        "print(meu_dicionario)"
      ],
      "metadata": {
        "colab": {
          "base_uri": "https://localhost:8080/"
        },
        "id": "Lywt31jKDcoi",
        "outputId": "9fb36865-cade-41a7-ea62-12a18f13091b"
      },
      "execution_count": 20,
      "outputs": [
        {
          "output_type": "stream",
          "name": "stdout",
          "text": [
            "{'nome': 'Alice', 'idade': 26, 'cidade': 'São Paulo'}\n"
          ]
        }
      ]
    },
    {
      "cell_type": "markdown",
      "source": [
        "# EXEMPLO 6 - GET"
      ],
      "metadata": {
        "id": "SzxvDhs3EXHY"
      }
    },
    {
      "cell_type": "code",
      "source": [
        "meu_dicionario = {\"nome\": \"Bob\", \"idade\": 30}\n",
        "idade = meu_dicionario.get(\"idade\")\n",
        "print(idade)"
      ],
      "metadata": {
        "colab": {
          "base_uri": "https://localhost:8080/"
        },
        "id": "8PTnehr0EMYd",
        "outputId": "6d1d38da-6be0-4eb8-bf7f-03997722b6cf"
      },
      "execution_count": 21,
      "outputs": [
        {
          "output_type": "stream",
          "name": "stdout",
          "text": [
            "30\n"
          ]
        }
      ]
    },
    {
      "cell_type": "markdown",
      "source": [
        "# EXEMPLO 7 - POP"
      ],
      "metadata": {
        "id": "jlgdcnKWEvvI"
      }
    },
    {
      "cell_type": "code",
      "source": [
        "meu_dicionario = {\"nome\": \"Carlos\", \"idade\": 22}\n",
        "valor_idade = meu_dicionario.pop(\"idade\")\n",
        "print(valor_idade)\n"
      ],
      "metadata": {
        "colab": {
          "base_uri": "https://localhost:8080/"
        },
        "id": "12xl7hGbEayq",
        "outputId": "cb6bb5d9-fedf-4ee1-fb37-c28741579d53"
      },
      "execution_count": 22,
      "outputs": [
        {
          "output_type": "stream",
          "name": "stdout",
          "text": [
            "22\n"
          ]
        }
      ]
    },
    {
      "cell_type": "markdown",
      "source": [
        "# EXEMPLO 7 - POP"
      ],
      "metadata": {
        "id": "XlG4AVfEFL0I"
      }
    },
    {
      "cell_type": "code",
      "source": [
        "meu_dicionario = {\"nome\": \"Carlos\", \"idade\": 22}\n",
        "valor_idade = meu_dicionario.pop(\"idade\")\n",
        "print(meu_dicionario)"
      ],
      "metadata": {
        "colab": {
          "base_uri": "https://localhost:8080/"
        },
        "id": "gaiuHLgdE_BR",
        "outputId": "992ab3d2-cc04-44ef-e59d-c8313092f853"
      },
      "execution_count": 24,
      "outputs": [
        {
          "output_type": "stream",
          "name": "stdout",
          "text": [
            "{'nome': 'Carlos'}\n"
          ]
        }
      ]
    }
  ]
}