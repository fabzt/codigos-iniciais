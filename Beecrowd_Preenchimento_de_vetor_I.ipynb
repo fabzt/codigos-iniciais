{
  "nbformat": 4,
  "nbformat_minor": 0,
  "metadata": {
    "colab": {
      "provenance": [],
      "authorship_tag": "ABX9TyNgJAlcl3TDuAPJT59oZIsa",
      "include_colab_link": true
    },
    "kernelspec": {
      "name": "python3",
      "display_name": "Python 3"
    },
    "language_info": {
      "name": "python"
    }
  },
  "cells": [
    {
      "cell_type": "markdown",
      "metadata": {
        "id": "view-in-github",
        "colab_type": "text"
      },
      "source": [
        "<a href=\"https://colab.research.google.com/github/fabzt/codigos-iniciais/blob/main/Beecrowd_Preenchimento_de_vetor_I.ipynb\" target=\"_parent\"><img src=\"https://colab.research.google.com/assets/colab-badge.svg\" alt=\"Open In Colab\"/></a>"
      ]
    },
    {
      "cell_type": "code",
      "execution_count": 1,
      "metadata": {
        "colab": {
          "base_uri": "https://localhost:8080/"
        },
        "id": "P09pwEmaVUuT",
        "outputId": "29989258-84bc-4d1b-c0e4-6a51aa9a3f1c"
      },
      "outputs": [
        {
          "output_type": "stream",
          "name": "stdout",
          "text": [
            "10\n",
            "N[0] = 10\n",
            "N[1] = 20\n",
            "N[2] = 40\n",
            "N[3] = 80\n",
            "N[4] = 160\n",
            "N[5] = 320\n",
            "N[6] = 640\n",
            "N[7] = 1280\n",
            "N[8] = 2560\n",
            "N[9] = 5120\n"
          ]
        }
      ],
      "source": [
        "V = int(input())  # Lê o valor de entrada\n",
        "\n",
        "N = [0] * 10  # Inicializa um array de tamanho 10\n",
        "\n",
        "N[0] = V  # Armazena o valor de entrada na primeira posição\n",
        "\n",
        "# Preenche as posições restantes com o dobro do valor anterior\n",
        "for i in range(1, 10):\n",
        "    N[i] = N[i - 1] * 2\n",
        "\n",
        "    # N[i - 1]: Representa o elemento anterior do array N na posição i - 1.\n",
        "# Imagine que o valor de entrada (V) seja 1. O array N inicialmente seria: [1, 0, 0, 0, 0, 0, 0, 0, 0, 0].\n",
        "# O loop for vai executar o seguinte:\n",
        "# Iteração 1: i = 1 - ele lê o número de iterações, não pela posição, por isso devemos colocar o -1\n",
        "# N[1] = N[1 - 1] * 2 que é o mesmo que N[1] = N[0] * 2.\n",
        "    # Como N[0] é 1, N[1] receberá o valor 2.\n",
        "\n",
        "# Imprime o array no formato especificado\n",
        "for i in range(10):\n",
        "    print(f\"N[{i}] = {N[i]}\")"
      ]
    }
  ]
}